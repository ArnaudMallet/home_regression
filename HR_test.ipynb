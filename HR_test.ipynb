{
 "cells": [
  {
   "cell_type": "code",
   "execution_count": 74,
   "metadata": {},
   "outputs": [],
   "source": [
    "%matplotlib inline\n",
    "import pandas as pd\n",
    "import seaborn as sns\n",
    "import numpy as np\n",
    "import matplotlib.pyplot as plt\n",
    "from scipy import stats\n",
    "\n",
    "import sklearn\n",
    "from sklearn.linear_model import LinearRegression\n",
    "\n",
    "import torch\n",
    "import torch.nn as nn\n",
    "import torch.nn.functional as F\n",
    "import torch.optim as optim\n",
    "from torch.utils.data import Dataset, DataLoader\n",
    "from tqdm import tqdm\n",
    "\n",
    "import time\n"
   ]
  },
  {
   "cell_type": "code",
   "execution_count": 75,
   "metadata": {},
   "outputs": [
    {
     "name": "stdout",
     "output_type": "stream",
     "text": [
      "False\n"
     ]
    }
   ],
   "source": [
    "# check if CUDA is available\n",
    "use_cuda = torch.cuda.is_available()\n",
    "print(use_cuda)"
   ]
  },
  {
   "cell_type": "code",
   "execution_count": 76,
   "metadata": {},
   "outputs": [
    {
     "name": "stdout",
     "output_type": "stream",
     "text": [
      "1460\n",
      "1459\n"
     ]
    }
   ],
   "source": [
    "pd.set_option('display.max_columns', None)\n",
    "pd.set_option('display.max_rows', 1)\n",
    "train_csv = pd.read_csv(\"train.csv\")\n",
    "print(len(train_csv))\n",
    "test_csv = pd.read_csv(\"test.csv\")\n",
    "print(len(test_csv))\n",
    "samples_submission_csv = pd.read_csv(\"sample_submission.csv\")"
   ]
  },
  {
   "cell_type": "code",
   "execution_count": 77,
   "metadata": {},
   "outputs": [
    {
     "name": "stdout",
     "output_type": "stream",
     "text": [
      "    Id  MSSubClass MSZoning  LotFrontage  LotArea Street Alley LotShape  \\\n",
      "0    1          60       RL         65.0     8450   Pave   NaN      Reg   \n",
      "..  ..         ...      ...          ...      ...    ...   ...      ...   \n",
      "\n",
      "   LandContour Utilities LotConfig LandSlope Neighborhood Condition1  \\\n",
      "0          Lvl    AllPub    Inside       Gtl      CollgCr       Norm   \n",
      "..         ...       ...       ...       ...          ...        ...   \n",
      "\n",
      "   Condition2 BldgType HouseStyle  OverallQual  OverallCond  YearBuilt  \\\n",
      "0        Norm     1Fam     2Story            7            5       2003   \n",
      "..        ...      ...        ...          ...          ...        ...   \n",
      "\n",
      "    YearRemodAdd RoofStyle RoofMatl Exterior1st Exterior2nd MasVnrType  \\\n",
      "0           2003     Gable  CompShg     VinylSd     VinylSd    BrkFace   \n",
      "..           ...       ...      ...         ...         ...        ...   \n",
      "\n",
      "    MasVnrArea ExterQual ExterCond Foundation BsmtQual BsmtCond BsmtExposure  \\\n",
      "0        196.0        Gd        TA      PConc       Gd       TA           No   \n",
      "..         ...       ...       ...        ...      ...      ...          ...   \n",
      "\n",
      "   BsmtFinType1  BsmtFinSF1 BsmtFinType2  BsmtFinSF2  BsmtUnfSF  TotalBsmtSF  \\\n",
      "0           GLQ         706          Unf           0        150          856   \n",
      "..          ...         ...          ...         ...        ...          ...   \n",
      "\n",
      "   Heating HeatingQC CentralAir Electrical  1stFlrSF  2ndFlrSF  LowQualFinSF  \\\n",
      "0     GasA        Ex          Y      SBrkr       856       854             0   \n",
      "..     ...       ...        ...        ...       ...       ...           ...   \n",
      "\n",
      "    GrLivArea  BsmtFullBath  BsmtHalfBath  FullBath  HalfBath  BedroomAbvGr  \\\n",
      "0        1710             1             0         2         1             3   \n",
      "..        ...           ...           ...       ...       ...           ...   \n",
      "\n",
      "    KitchenAbvGr KitchenQual  TotRmsAbvGrd Functional  Fireplaces FireplaceQu  \\\n",
      "0              1          Gd             8        Typ           0         NaN   \n",
      "..           ...         ...           ...        ...         ...         ...   \n",
      "\n",
      "   GarageType  GarageYrBlt GarageFinish  GarageCars  GarageArea GarageQual  \\\n",
      "0      Attchd       2003.0          RFn           2         548         TA   \n",
      "..        ...          ...          ...         ...         ...        ...   \n",
      "\n",
      "   GarageCond PavedDrive  WoodDeckSF  OpenPorchSF  EnclosedPorch  3SsnPorch  \\\n",
      "0          TA          Y           0           61              0          0   \n",
      "..        ...        ...         ...          ...            ...        ...   \n",
      "\n",
      "    ScreenPorch  PoolArea PoolQC Fence MiscFeature  MiscVal  MoSold  YrSold  \\\n",
      "0             0         0    NaN   NaN         NaN        0       2    2008   \n",
      "..          ...       ...    ...   ...         ...      ...     ...     ...   \n",
      "\n",
      "   SaleType SaleCondition  SalePrice  \n",
      "0        WD        Normal     208500  \n",
      "..      ...           ...        ...  \n",
      "\n",
      "[1460 rows x 81 columns]\n"
     ]
    }
   ],
   "source": [
    "print(train_csv)"
   ]
  },
  {
   "cell_type": "code",
   "execution_count": 78,
   "metadata": {},
   "outputs": [
    {
     "name": "stdout",
     "output_type": "stream",
     "text": [
      "(2919, 288)\n",
      "(1460, 288)\n",
      "(1459, 288)\n",
      "(1460, 1)\n"
     ]
    }
   ],
   "source": [
    "train_data = pd.read_csv(\"train.csv\")\n",
    "test_data = pd.read_csv(\"test.csv\")\n",
    "train_data= train_data.drop(['SalePrice'], axis='columns')\n",
    "train_data= train_data.drop(['Id'], axis='columns')\n",
    "test_data= test_data.drop(['Id'], axis='columns')\n",
    "all_data = pd.concat([train_data, test_data], keys=[\"train\", \"test\"])\n",
    "all_data = pd.get_dummies(all_data)\n",
    "all_data = all_data.fillna(0)\n",
    "all_data = (all_data - all_data.mean()) / all_data.std()\n",
    "print(all_data.shape)\n",
    "\n",
    "train_data = all_data.loc['train']\n",
    "print(train_data.shape)\n",
    "test_data = all_data.loc['test']\n",
    "print(test_data.shape)\n",
    "\n",
    "train_data_target = train_csv.iloc[:,-1:]\n",
    "print(train_data_target.shape)"
   ]
  },
  {
   "cell_type": "code",
   "execution_count": 80,
   "metadata": {},
   "outputs": [
    {
     "data": {
      "text/plain": [
       "0.932783471380324"
      ]
     },
     "execution_count": 80,
     "metadata": {},
     "output_type": "execute_result"
    }
   ],
   "source": [
    "reg = LinearRegression().fit(train_data, train_data_target)\n",
    "reg.score(train_data, train_data_target)"
   ]
  },
  {
   "cell_type": "code",
   "execution_count": 81,
   "metadata": {},
   "outputs": [
    {
     "data": {
      "text/plain": [
       "array([[-2.29269818e+03,  1.15021598e+02,  5.67121846e+03,\n",
       "         9.91575547e+03,  6.47522582e+03,  9.50639275e+03,\n",
       "         2.17330281e+03,  3.64538007e+03, -5.85817793e+15,\n",
       "        -2.17530336e+15, -5.65225560e+15,  5.67192330e+15,\n",
       "         1.15630648e+17,  1.26340005e+17,  1.36733267e+16,\n",
       "        -1.49135233e+17,  7.48750000e+02, -1.72250000e+02,\n",
       "         1.82481250e+03,  9.26734375e+02, -2.86437500e+03,\n",
       "        -2.89662500e+03,  2.94037500e+03,  3.95350000e+03,\n",
       "        -1.10330781e+04,  3.22600000e+03,  4.20021875e+03,\n",
       "         1.90700000e+03,  2.02031250e+02,  4.37406250e+02,\n",
       "         8.70242188e+02,  1.79706250e+03,  2.43519375e+04,\n",
       "         1.86390625e+02, -9.62046875e+02, -5.53984375e+02,\n",
       "        -4.11688091e+15, -9.51434366e+15, -4.19768579e+15,\n",
       "        -1.86282481e+16, -1.62782314e+16,  5.21358393e+15,\n",
       "         5.21358393e+15,  3.15625000e+01, -8.03750000e+01,\n",
       "         5.69969615e+16,  1.92788275e+16,  8.93858759e+15,\n",
       "         5.82207799e+16, -2.02571104e+16, -2.05041878e+16,\n",
       "        -1.46532244e+16, -3.12208747e+16, -3.93592813e+16,\n",
       "        -2.27318832e+16, -1.90769299e+16, -1.19492055e+16,\n",
       "        -8.44071388e+15, -3.46822192e+15, -2.22677581e+16,\n",
       "         6.54262844e+16,  6.17795567e+16,  2.25299428e+16,\n",
       "         1.77746767e+15,  1.06554185e+15,  1.83921732e+15,\n",
       "         3.44223844e+15,  2.22199927e+15,  5.25703707e+15,\n",
       "         3.36460113e+15,  4.54237272e+15,  4.21136215e+15,\n",
       "         3.20277332e+15,  2.04007672e+15,  3.53278744e+15,\n",
       "         6.54298361e+15,  1.61235937e+15,  3.77555396e+15,\n",
       "         2.80929804e+15,  4.22333760e+15,  4.99994235e+15,\n",
       "         2.31918751e+15,  4.03896570e+15,  3.69204390e+15,\n",
       "         4.40932125e+15,  2.38931446e+15,  2.82851594e+15,\n",
       "         1.64675334e+15, -8.36113123e+15, -1.10202373e+16,\n",
       "        -1.65944040e+16, -3.94772896e+15, -5.49460870e+15,\n",
       "        -4.66456644e+15, -6.20952669e+15, -2.16747496e+15,\n",
       "        -2.65323655e+15, -8.24248296e+15, -1.32723481e+16,\n",
       "        -2.01030837e+16, -7.37356575e+15, -7.37356575e+15,\n",
       "        -3.68867953e+15, -3.68867953e+15, -5.21568668e+15,\n",
       "        -1.90748161e+16, -7.33486253e+15, -9.64511527e+15,\n",
       "        -9.07260638e+15, -1.36235870e+16, -1.57368854e+17,\n",
       "        -4.08437769e+16, -2.53945612e+17, -2.65531587e+16,\n",
       "        -4.58648524e+16, -2.32470184e+17, -8.44193988e+16,\n",
       "        -1.04000397e+17,  2.41766077e+15,  1.19088793e+16,\n",
       "         2.53478919e+15,  1.14689301e+16,  1.79576624e+15,\n",
       "         1.21195371e+15, -1.27340333e+15, -8.28995178e+15,\n",
       "        -1.27340333e+15, -1.27340333e+15, -1.27340333e+15,\n",
       "        -6.08396256e+15, -3.81496963e+15, -3.36564295e+15,\n",
       "        -1.35978565e+16, -2.92017180e+15, -5.05441686e+15,\n",
       "        -1.89771697e+16, -8.25395771e+16, -2.26801504e+16,\n",
       "        -4.00036232e+16, -2.06522719e+15, -4.02987886e+16,\n",
       "        -2.95217637e+16, -2.92017180e+15, -1.34447849e+16,\n",
       "        -5.32693147e+16, -3.88159184e+16, -1.53084027e+16,\n",
       "         1.54234085e+15,  5.03345522e+14,  1.17679963e+15,\n",
       "         1.71260844e+15,  9.79327270e+16,  2.76527084e+15,\n",
       "         4.70843084e+15,  9.72883571e+14,  4.89998701e+15,\n",
       "         2.51802233e+14,  3.94221036e+15,  6.16258329e+14,\n",
       "         1.71260844e+15,  6.47863334e+15,  4.63440354e+15,\n",
       "         2.23493882e+15, -2.23687500e+02,  9.89000000e+02,\n",
       "         2.39606250e+03,  1.97900000e+03,  3.10984462e+16,\n",
       "         1.80123673e+16,  7.81324341e+16,  8.04890485e+16,\n",
       "         5.81020465e+15,  1.35984827e+16,  2.75336971e+16,\n",
       "         2.90959591e+15,  3.05905008e+16, -4.18557263e+16,\n",
       "        -6.70232398e+16, -6.74640698e+16, -1.74284949e+16,\n",
       "        -8.31217041e+15, -5.60984253e+15, -1.60955714e+16,\n",
       "        -9.69583867e+15, -2.79309248e+16, -2.81435636e+16,\n",
       "        -1.70240490e+16, -1.83794766e+16, -3.79784090e+15,\n",
       "        -2.84162239e+16,  4.36981250e+03,  7.81232031e+03,\n",
       "         2.34434375e+03,  3.49368945e+03,  5.25960268e+16,\n",
       "         4.29658784e+16,  6.74626872e+16,  3.32072221e+16,\n",
       "         4.42977111e+16,  6.75094649e+16,  3.68190625e+03,\n",
       "         2.36806250e+03,  2.59340625e+03,  2.12661719e+03,\n",
       "         3.18137500e+03,  6.91601562e+03, -2.06013259e+15,\n",
       "        -1.37152007e+16, -1.06569654e+16, -6.17191986e+15,\n",
       "        -2.91296819e+15, -5.04194840e+15, -9.97910592e+16,\n",
       "        -3.48785791e+16, -7.36258918e+16, -6.39670545e+15,\n",
       "        -9.09152437e+16,  4.69792776e+16,  4.69792776e+16,\n",
       "        -3.10759375e+03, -1.75035156e+03, -9.60062500e+02,\n",
       "        -1.04725781e+03, -4.27087500e+03,  6.35667699e+15,\n",
       "         3.80577874e+15,  1.21570187e+16,  1.24349685e+16,\n",
       "         1.73105472e+16,  1.19344592e+16,  3.17627912e+16,\n",
       "         3.29329202e+16,  2.34296956e+16,  5.63272059e+15,\n",
       "         5.46330568e+16, -1.03331250e+03, -1.70933386e+03,\n",
       "        -2.53375000e+03,  2.30562500e+02, -2.04612500e+03,\n",
       "        -5.96229119e+15, -3.31633362e+16, -7.44258078e+15,\n",
       "        -1.64712392e+16, -4.82163045e+15, -2.98281007e+16,\n",
       "         7.88543577e+16,  8.19776837e+16,  9.03685457e+16,\n",
       "         1.81215928e+15,  1.14062721e+16,  5.10707088e+15,\n",
       "         2.33868514e+15,  1.75476008e+16, -5.51554962e+15,\n",
       "        -2.70577328e+16, -1.23077409e+16, -1.18924544e+16,\n",
       "        -4.94547265e+16, -7.52991259e+15, -4.14754400e+15,\n",
       "        -8.44396910e+15, -9.44778125e+03, -1.07963750e+04,\n",
       "        -1.40244375e+04, -1.73504688e+03, -2.26734375e+02,\n",
       "         3.44062500e+01, -3.12253906e+02, -1.81984375e+02,\n",
       "         6.59312500e+02,  3.60609375e+02,  6.84375000e+02,\n",
       "         3.35490765e+16,  1.26237230e+16,  8.15838310e+15,\n",
       "         1.85368190e+16,  1.09381045e+16,  1.03143156e+16,\n",
       "         5.40929500e+16,  9.64981582e+15,  6.74144695e+16,\n",
       "        -1.83446232e+16, -4.75820737e+15, -6.71521824e+15,\n",
       "        -9.26140669e+15, -2.83897782e+16, -2.06202521e+16]])"
      ]
     },
     "execution_count": 81,
     "metadata": {},
     "output_type": "execute_result"
    }
   ],
   "source": [
    "reg.coef_"
   ]
  },
  {
   "cell_type": "code",
   "execution_count": 82,
   "metadata": {},
   "outputs": [
    {
     "data": {
      "text/plain": [
       "array([1.84194916e+15])"
      ]
     },
     "execution_count": 82,
     "metadata": {},
     "output_type": "execute_result"
    }
   ],
   "source": [
    "reg.intercept_"
   ]
  },
  {
   "cell_type": "code",
   "execution_count": 83,
   "metadata": {},
   "outputs": [
    {
     "data": {
      "text/plain": [
       "array([[108483.75],\n",
       "       [158787.75],\n",
       "       [186435.75],\n",
       "       ...,\n",
       "       [177411.75],\n",
       "       [113795.75],\n",
       "       [224899.75]])"
      ]
     },
     "execution_count": 83,
     "metadata": {},
     "output_type": "execute_result"
    }
   ],
   "source": [
    "reg.predict(test_data)"
   ]
  },
  {
   "cell_type": "code",
   "execution_count": null,
   "metadata": {},
   "outputs": [],
   "source": []
  }
 ],
 "metadata": {
  "kernelspec": {
   "display_name": "Python 3",
   "language": "python",
   "name": "python3"
  },
  "language_info": {
   "codemirror_mode": {
    "name": "ipython",
    "version": 3
   },
   "file_extension": ".py",
   "mimetype": "text/x-python",
   "name": "python",
   "nbconvert_exporter": "python",
   "pygments_lexer": "ipython3",
   "version": "3.7.4"
  }
 },
 "nbformat": 4,
 "nbformat_minor": 2
}
