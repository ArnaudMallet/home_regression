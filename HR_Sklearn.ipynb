{
 "cells": [
  {
   "cell_type": "code",
   "execution_count": 1,
   "metadata": {},
   "outputs": [],
   "source": [
    "%matplotlib inline\n",
    "import pandas as pd\n",
    "import seaborn as sns\n",
    "import numpy as np\n",
    "import matplotlib.pyplot as plt\n",
    "from scipy import stats\n",
    "\n",
    "import sklearn\n",
    "from sklearn.linear_model import LinearRegression\n",
    "\n",
    "import torch\n",
    "import torch.nn as nn\n",
    "import torch.nn.functional as F\n",
    "import torch.optim as optim\n",
    "from torch.utils.data import Dataset, DataLoader\n",
    "from tqdm import tqdm\n",
    "\n",
    "import time\n"
   ]
  },
  {
   "cell_type": "code",
   "execution_count": 2,
   "metadata": {},
   "outputs": [
    {
     "name": "stdout",
     "output_type": "stream",
     "text": [
      "False\n"
     ]
    },
    {
     "name": "stderr",
     "output_type": "stream",
     "text": [
      "C:\\Users\\amallet\\Anaconda3\\envs\\udacity_env\\lib\\site-packages\\torch\\cuda\\__init__.py:52: UserWarning: CUDA initialization: Found no NVIDIA driver on your system. Please check that you have an NVIDIA GPU and installed a driver from http://www.nvidia.com/Download/index.aspx (Triggered internally at  ..\\c10\\cuda\\CUDAFunctions.cpp:100.)\n",
      "  return torch._C._cuda_getDeviceCount() > 0\n"
     ]
    }
   ],
   "source": [
    "# check if CUDA is available\n",
    "use_cuda = torch.cuda.is_available()\n",
    "print(use_cuda)"
   ]
  },
  {
   "cell_type": "code",
   "execution_count": 3,
   "metadata": {},
   "outputs": [
    {
     "name": "stdout",
     "output_type": "stream",
     "text": [
      "1460\n",
      "1459\n"
     ]
    }
   ],
   "source": [
    "pd.set_option('display.max_columns', None)\n",
    "pd.set_option('display.max_rows', 1)\n",
    "train_csv = pd.read_csv(\"train.csv\")\n",
    "print(len(train_csv))\n",
    "test_csv = pd.read_csv(\"test.csv\")\n",
    "print(len(test_csv))\n",
    "samples_submission_csv = pd.read_csv(\"sample_submission.csv\")"
   ]
  },
  {
   "cell_type": "code",
   "execution_count": 4,
   "metadata": {},
   "outputs": [
    {
     "name": "stdout",
     "output_type": "stream",
     "text": [
      "    Id  MSSubClass MSZoning  LotFrontage  LotArea Street Alley LotShape  \\\n",
      "0    1          60       RL         65.0     8450   Pave   NaN      Reg   \n",
      "..  ..         ...      ...          ...      ...    ...   ...      ...   \n",
      "\n",
      "   LandContour Utilities LotConfig LandSlope Neighborhood Condition1  \\\n",
      "0          Lvl    AllPub    Inside       Gtl      CollgCr       Norm   \n",
      "..         ...       ...       ...       ...          ...        ...   \n",
      "\n",
      "   Condition2 BldgType HouseStyle  OverallQual  OverallCond  YearBuilt  \\\n",
      "0        Norm     1Fam     2Story            7            5       2003   \n",
      "..        ...      ...        ...          ...          ...        ...   \n",
      "\n",
      "    YearRemodAdd RoofStyle RoofMatl Exterior1st Exterior2nd MasVnrType  \\\n",
      "0           2003     Gable  CompShg     VinylSd     VinylSd    BrkFace   \n",
      "..           ...       ...      ...         ...         ...        ...   \n",
      "\n",
      "    MasVnrArea ExterQual ExterCond Foundation BsmtQual BsmtCond BsmtExposure  \\\n",
      "0        196.0        Gd        TA      PConc       Gd       TA           No   \n",
      "..         ...       ...       ...        ...      ...      ...          ...   \n",
      "\n",
      "   BsmtFinType1  BsmtFinSF1 BsmtFinType2  BsmtFinSF2  BsmtUnfSF  TotalBsmtSF  \\\n",
      "0           GLQ         706          Unf           0        150          856   \n",
      "..          ...         ...          ...         ...        ...          ...   \n",
      "\n",
      "   Heating HeatingQC CentralAir Electrical  1stFlrSF  2ndFlrSF  LowQualFinSF  \\\n",
      "0     GasA        Ex          Y      SBrkr       856       854             0   \n",
      "..     ...       ...        ...        ...       ...       ...           ...   \n",
      "\n",
      "    GrLivArea  BsmtFullBath  BsmtHalfBath  FullBath  HalfBath  BedroomAbvGr  \\\n",
      "0        1710             1             0         2         1             3   \n",
      "..        ...           ...           ...       ...       ...           ...   \n",
      "\n",
      "    KitchenAbvGr KitchenQual  TotRmsAbvGrd Functional  Fireplaces FireplaceQu  \\\n",
      "0              1          Gd             8        Typ           0         NaN   \n",
      "..           ...         ...           ...        ...         ...         ...   \n",
      "\n",
      "   GarageType  GarageYrBlt GarageFinish  GarageCars  GarageArea GarageQual  \\\n",
      "0      Attchd       2003.0          RFn           2         548         TA   \n",
      "..        ...          ...          ...         ...         ...        ...   \n",
      "\n",
      "   GarageCond PavedDrive  WoodDeckSF  OpenPorchSF  EnclosedPorch  3SsnPorch  \\\n",
      "0          TA          Y           0           61              0          0   \n",
      "..        ...        ...         ...          ...            ...        ...   \n",
      "\n",
      "    ScreenPorch  PoolArea PoolQC Fence MiscFeature  MiscVal  MoSold  YrSold  \\\n",
      "0             0         0    NaN   NaN         NaN        0       2    2008   \n",
      "..          ...       ...    ...   ...         ...      ...     ...     ...   \n",
      "\n",
      "   SaleType SaleCondition  SalePrice  \n",
      "0        WD        Normal     208500  \n",
      "..      ...           ...        ...  \n",
      "\n",
      "[1460 rows x 81 columns]\n"
     ]
    }
   ],
   "source": [
    "print(train_csv)"
   ]
  },
  {
   "cell_type": "code",
   "execution_count": 5,
   "metadata": {},
   "outputs": [
    {
     "name": "stdout",
     "output_type": "stream",
     "text": [
      "(2919, 288)\n",
      "(1460, 288)\n",
      "(1459, 288)\n",
      "(1460, 1)\n"
     ]
    }
   ],
   "source": [
    "train_data = pd.read_csv(\"train.csv\")\n",
    "test_data = pd.read_csv(\"test.csv\")\n",
    "train_data= train_data.drop(['SalePrice'], axis='columns')\n",
    "train_data= train_data.drop(['Id'], axis='columns')\n",
    "test_data= test_data.drop(['Id'], axis='columns')\n",
    "all_data = pd.concat([train_data, test_data], keys=[\"train\", \"test\"])\n",
    "all_data = pd.get_dummies(all_data)\n",
    "all_data = all_data.fillna(0)\n",
    "all_data = (all_data - all_data.mean()) / all_data.std()\n",
    "print(all_data.shape)\n",
    "\n",
    "train_data = all_data.loc['train']\n",
    "print(train_data.shape)\n",
    "test_data = all_data.loc['test']\n",
    "print(test_data.shape)\n",
    "\n",
    "train_data_target = train_csv.iloc[:,-1:]\n",
    "print(train_data_target.shape)"
   ]
  },
  {
   "cell_type": "code",
   "execution_count": 6,
   "metadata": {},
   "outputs": [
    {
     "data": {
      "text/plain": [
       "0.933219970204217"
      ]
     },
     "execution_count": 6,
     "metadata": {},
     "output_type": "execute_result"
    }
   ],
   "source": [
    "reg = LinearRegression().fit(train_data, train_data_target)\n",
    "reg.score(train_data, train_data_target)"
   ]
  },
  {
   "cell_type": "code",
   "execution_count": 7,
   "metadata": {},
   "outputs": [
    {
     "name": "stdout",
     "output_type": "stream",
     "text": [
      "(1, 288)\n"
     ]
    }
   ],
   "source": [
    "coef = reg.coef_\n",
    "\n",
    "print(coef.shape)"
   ]
  },
  {
   "cell_type": "code",
   "execution_count": 8,
   "metadata": {},
   "outputs": [
    {
     "data": {
      "text/plain": [
       "array([-3.11691077e+13])"
      ]
     },
     "execution_count": 8,
     "metadata": {},
     "output_type": "execute_result"
    }
   ],
   "source": [
    "reg.intercept_"
   ]
  },
  {
   "cell_type": "code",
   "execution_count": 9,
   "metadata": {},
   "outputs": [
    {
     "name": "stdout",
     "output_type": "stream",
     "text": [
      "1459\n"
     ]
    }
   ],
   "source": [
    "output = reg.predict(test_data)\n",
    "print(len(output))"
   ]
  },
  {
   "cell_type": "code",
   "execution_count": 10,
   "metadata": {},
   "outputs": [
    {
     "data": {
      "text/plain": [
       "array([[112528.0234375],\n",
       "       [160121.4609375],\n",
       "       [186780.5859375],\n",
       "       ...,\n",
       "       [176154.4609375],\n",
       "       [115262.7109375],\n",
       "       [223324.4296875]])"
      ]
     },
     "execution_count": 10,
     "metadata": {},
     "output_type": "execute_result"
    }
   ],
   "source": [
    "output\n"
   ]
  },
  {
   "cell_type": "code",
   "execution_count": 27,
   "metadata": {},
   "outputs": [
    {
     "name": "stdout",
     "output_type": "stream",
     "text": [
      "112528.0234375\n"
     ]
    }
   ],
   "source": [
    "print(output[0][0])"
   ]
  },
  {
   "cell_type": "code",
   "execution_count": 36,
   "metadata": {},
   "outputs": [
    {
     "name": "stdout",
     "output_type": "stream",
     "text": [
      "        Id      SalePrice\n",
      "0     1461  169277.052498\n",
      "1     1462  187758.393989\n",
      "2     1463  183583.683570\n",
      "3     1464  179317.477511\n",
      "4     1465  150730.079977\n",
      "...    ...            ...\n",
      "1454  2915  167081.220949\n",
      "1455  2916  164788.778231\n",
      "1456  2917  219222.423400\n",
      "1457  2918  184924.279659\n",
      "1458  2919  187741.866657\n",
      "\n",
      "[1459 rows x 2 columns]\n"
     ]
    },
    {
     "name": "stderr",
     "output_type": "stream",
     "text": [
      "C:\\Users\\amallet\\Anaconda3\\envs\\udacity_env\\lib\\site-packages\\ipykernel_launcher.py:7: SettingWithCopyWarning: \n",
      "A value is trying to be set on a copy of a slice from a DataFrame\n",
      "\n",
      "See the caveats in the documentation: https://pandas.pydata.org/pandas-docs/stable/user_guide/indexing.html#returning-a-view-versus-a-copy\n",
      "  import sys\n"
     ]
    }
   ],
   "source": [
    "import csv\n",
    "\n",
    "submission = pd.read_csv('sample_submission.csv')\n",
    "print(submission)\n",
    "\n",
    "for i in range(len(output)):\n",
    "    submission.iloc[i][1] = output[i][0]\n",
    "\n",
    "pd.set_option(\"display.max_rows\", 10, \"display.max_columns\", None)\n",
    "\n",
    "submission.to_csv(path_or_buf='sample_submission_SKlearn.csv', index=False)"
   ]
  },
  {
   "cell_type": "code",
   "execution_count": null,
   "metadata": {},
   "outputs": [],
   "source": []
  }
 ],
 "metadata": {
  "kernelspec": {
   "display_name": "Python 3",
   "language": "python",
   "name": "python3"
  },
  "language_info": {
   "codemirror_mode": {
    "name": "ipython",
    "version": 3
   },
   "file_extension": ".py",
   "mimetype": "text/x-python",
   "name": "python",
   "nbconvert_exporter": "python",
   "pygments_lexer": "ipython3",
   "version": "3.7.9"
  }
 },
 "nbformat": 4,
 "nbformat_minor": 2
}
